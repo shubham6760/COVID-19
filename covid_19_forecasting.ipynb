{
  "nbformat": 4,
  "nbformat_minor": 0,
  "metadata": {
    "colab": {
      "provenance": [],
      "collapsed_sections": []
    },
    "kernelspec": {
      "name": "python3",
      "display_name": "Python 3"
    },
    "language_info": {
      "name": "python"
    }
  },
  "cells": [
    {
      "cell_type": "markdown",
      "source": [
        "#*Importing Libraries\n",
        "numpy for array, pandas for dataframes and matplotlib fod data visualization"
      ],
      "metadata": {
        "id": "UTxLvyMuKJ4h"
      }
    },
    {
      "cell_type": "code",
      "source": [
        "import numpy as np\n",
        "import pandas as pd\n",
        "import matplotlib.pyplot as plt\n",
        "import matplotlib.gridspec as gridspec"
      ],
      "metadata": {
        "id": "N3A4_LvXKPkT"
      },
      "execution_count": 3,
      "outputs": []
    },
    {
      "cell_type": "markdown",
      "source": [
        "#Loading the dataset\n",
        "data set here is already processed"
      ],
      "metadata": {
        "id": "SceBBPXNK2PO"
      }
    },
    {
      "cell_type": "code",
      "source": [
        "country = pd.read_csv(r\"/content/countrywise cases.csv\")\n",
        "state = pd.read_csv(r\"/content/state wise cases.csv\")\n",
        "total = pd.read_csv(r\"/content/statewise total case.csv\")\n",
        "code = pd.read_csv(r\"/content/state name with code.csv\")"
      ],
      "metadata": {
        "id": "IKTUIFTjLAy-"
      },
      "execution_count": 6,
      "outputs": []
    },
    {
      "cell_type": "markdown",
      "source": [
        "###Extracting information from data"
      ],
      "metadata": {
        "id": "mvnvEPdbN4UI"
      }
    },
    {
      "cell_type": "code",
      "source": [
        "country.head()"
      ],
      "metadata": {
        "colab": {
          "base_uri": "https://localhost:8080/",
          "height": 206
        },
        "id": "pLs_yNE1N-ki",
        "outputId": "34f4e890-c10b-498c-e2fb-3d5bf39910a3"
      },
      "execution_count": 8,
      "outputs": [
        {
          "output_type": "execute_result",
          "data": {
            "text/plain": [
              "          Date  Daily Confirmed  Total Confirmed  Daily Recovered  \\\n",
              "0   30 January                1                1                0   \n",
              "1   31 January                0                1                0   \n",
              "2  01 February                0                1                0   \n",
              "3  02 February                1                2                0   \n",
              "4  03 February                1                3                0   \n",
              "\n",
              "   Total Recovered  Daily Deceased  Total Deceased  \n",
              "0                0               0               0  \n",
              "1                0               0               0  \n",
              "2                0               0               0  \n",
              "3                0               0               0  \n",
              "4                0               0               0  "
            ],
            "text/html": [
              "\n",
              "  <div id=\"df-ad986d0a-a8f2-4778-ba59-0051c9e865ed\">\n",
              "    <div class=\"colab-df-container\">\n",
              "      <div>\n",
              "<style scoped>\n",
              "    .dataframe tbody tr th:only-of-type {\n",
              "        vertical-align: middle;\n",
              "    }\n",
              "\n",
              "    .dataframe tbody tr th {\n",
              "        vertical-align: top;\n",
              "    }\n",
              "\n",
              "    .dataframe thead th {\n",
              "        text-align: right;\n",
              "    }\n",
              "</style>\n",
              "<table border=\"1\" class=\"dataframe\">\n",
              "  <thead>\n",
              "    <tr style=\"text-align: right;\">\n",
              "      <th></th>\n",
              "      <th>Date</th>\n",
              "      <th>Daily Confirmed</th>\n",
              "      <th>Total Confirmed</th>\n",
              "      <th>Daily Recovered</th>\n",
              "      <th>Total Recovered</th>\n",
              "      <th>Daily Deceased</th>\n",
              "      <th>Total Deceased</th>\n",
              "    </tr>\n",
              "  </thead>\n",
              "  <tbody>\n",
              "    <tr>\n",
              "      <th>0</th>\n",
              "      <td>30 January</td>\n",
              "      <td>1</td>\n",
              "      <td>1</td>\n",
              "      <td>0</td>\n",
              "      <td>0</td>\n",
              "      <td>0</td>\n",
              "      <td>0</td>\n",
              "    </tr>\n",
              "    <tr>\n",
              "      <th>1</th>\n",
              "      <td>31 January</td>\n",
              "      <td>0</td>\n",
              "      <td>1</td>\n",
              "      <td>0</td>\n",
              "      <td>0</td>\n",
              "      <td>0</td>\n",
              "      <td>0</td>\n",
              "    </tr>\n",
              "    <tr>\n",
              "      <th>2</th>\n",
              "      <td>01 February</td>\n",
              "      <td>0</td>\n",
              "      <td>1</td>\n",
              "      <td>0</td>\n",
              "      <td>0</td>\n",
              "      <td>0</td>\n",
              "      <td>0</td>\n",
              "    </tr>\n",
              "    <tr>\n",
              "      <th>3</th>\n",
              "      <td>02 February</td>\n",
              "      <td>1</td>\n",
              "      <td>2</td>\n",
              "      <td>0</td>\n",
              "      <td>0</td>\n",
              "      <td>0</td>\n",
              "      <td>0</td>\n",
              "    </tr>\n",
              "    <tr>\n",
              "      <th>4</th>\n",
              "      <td>03 February</td>\n",
              "      <td>1</td>\n",
              "      <td>3</td>\n",
              "      <td>0</td>\n",
              "      <td>0</td>\n",
              "      <td>0</td>\n",
              "      <td>0</td>\n",
              "    </tr>\n",
              "  </tbody>\n",
              "</table>\n",
              "</div>\n",
              "      <button class=\"colab-df-convert\" onclick=\"convertToInteractive('df-ad986d0a-a8f2-4778-ba59-0051c9e865ed')\"\n",
              "              title=\"Convert this dataframe to an interactive table.\"\n",
              "              style=\"display:none;\">\n",
              "        \n",
              "  <svg xmlns=\"http://www.w3.org/2000/svg\" height=\"24px\"viewBox=\"0 0 24 24\"\n",
              "       width=\"24px\">\n",
              "    <path d=\"M0 0h24v24H0V0z\" fill=\"none\"/>\n",
              "    <path d=\"M18.56 5.44l.94 2.06.94-2.06 2.06-.94-2.06-.94-.94-2.06-.94 2.06-2.06.94zm-11 1L8.5 8.5l.94-2.06 2.06-.94-2.06-.94L8.5 2.5l-.94 2.06-2.06.94zm10 10l.94 2.06.94-2.06 2.06-.94-2.06-.94-.94-2.06-.94 2.06-2.06.94z\"/><path d=\"M17.41 7.96l-1.37-1.37c-.4-.4-.92-.59-1.43-.59-.52 0-1.04.2-1.43.59L10.3 9.45l-7.72 7.72c-.78.78-.78 2.05 0 2.83L4 21.41c.39.39.9.59 1.41.59.51 0 1.02-.2 1.41-.59l7.78-7.78 2.81-2.81c.8-.78.8-2.07 0-2.86zM5.41 20L4 18.59l7.72-7.72 1.47 1.35L5.41 20z\"/>\n",
              "  </svg>\n",
              "      </button>\n",
              "      \n",
              "  <style>\n",
              "    .colab-df-container {\n",
              "      display:flex;\n",
              "      flex-wrap:wrap;\n",
              "      gap: 12px;\n",
              "    }\n",
              "\n",
              "    .colab-df-convert {\n",
              "      background-color: #E8F0FE;\n",
              "      border: none;\n",
              "      border-radius: 50%;\n",
              "      cursor: pointer;\n",
              "      display: none;\n",
              "      fill: #1967D2;\n",
              "      height: 32px;\n",
              "      padding: 0 0 0 0;\n",
              "      width: 32px;\n",
              "    }\n",
              "\n",
              "    .colab-df-convert:hover {\n",
              "      background-color: #E2EBFA;\n",
              "      box-shadow: 0px 1px 2px rgba(60, 64, 67, 0.3), 0px 1px 3px 1px rgba(60, 64, 67, 0.15);\n",
              "      fill: #174EA6;\n",
              "    }\n",
              "\n",
              "    [theme=dark] .colab-df-convert {\n",
              "      background-color: #3B4455;\n",
              "      fill: #D2E3FC;\n",
              "    }\n",
              "\n",
              "    [theme=dark] .colab-df-convert:hover {\n",
              "      background-color: #434B5C;\n",
              "      box-shadow: 0px 1px 3px 1px rgba(0, 0, 0, 0.15);\n",
              "      filter: drop-shadow(0px 1px 2px rgba(0, 0, 0, 0.3));\n",
              "      fill: #FFFFFF;\n",
              "    }\n",
              "  </style>\n",
              "\n",
              "      <script>\n",
              "        const buttonEl =\n",
              "          document.querySelector('#df-ad986d0a-a8f2-4778-ba59-0051c9e865ed button.colab-df-convert');\n",
              "        buttonEl.style.display =\n",
              "          google.colab.kernel.accessAllowed ? 'block' : 'none';\n",
              "\n",
              "        async function convertToInteractive(key) {\n",
              "          const element = document.querySelector('#df-ad986d0a-a8f2-4778-ba59-0051c9e865ed');\n",
              "          const dataTable =\n",
              "            await google.colab.kernel.invokeFunction('convertToInteractive',\n",
              "                                                     [key], {});\n",
              "          if (!dataTable) return;\n",
              "\n",
              "          const docLinkHtml = 'Like what you see? Visit the ' +\n",
              "            '<a target=\"_blank\" href=https://colab.research.google.com/notebooks/data_table.ipynb>data table notebook</a>'\n",
              "            + ' to learn more about interactive tables.';\n",
              "          element.innerHTML = '';\n",
              "          dataTable['output_type'] = 'display_data';\n",
              "          await google.colab.output.renderOutput(dataTable, element);\n",
              "          const docLink = document.createElement('div');\n",
              "          docLink.innerHTML = docLinkHtml;\n",
              "          element.appendChild(docLink);\n",
              "        }\n",
              "      </script>\n",
              "    </div>\n",
              "  </div>\n",
              "  "
            ]
          },
          "metadata": {},
          "execution_count": 8
        }
      ]
    },
    {
      "cell_type": "code",
      "source": [
        "state.head()"
      ],
      "metadata": {
        "colab": {
          "base_uri": "https://localhost:8080/",
          "height": 235
        },
        "id": "nXWGIcabOMwM",
        "outputId": "d307afeb-282d-4254-8ac6-66c15c4758b0"
      },
      "execution_count": 9,
      "outputs": [
        {
          "output_type": "execute_result",
          "data": {
            "text/plain": [
              "        Date     Status  TT  AN   AP  AR  AS  BR  CH  CT  ...  PY  PB  RJ  SK  \\\n",
              "0  14-Mar-20  Confirmed  79   0  1.0   0   0   0   0   0  ...   0   1   3   0   \n",
              "1  14-Mar-20  Recovered   9   0  0.0   0   0   0   0   0  ...   0   0   1   0   \n",
              "2  14-Mar-20   Deceased   2   0  0.0   0   0   0   0   0  ...   0   0   0   0   \n",
              "3  15-Mar-20  Confirmed  28   0  0.0   0   0   0   0   0  ...   0   0   1   0   \n",
              "4  15-Mar-20  Recovered   4   0  0.0   0   0   0   0   0  ...   0   0   2   0   \n",
              "\n",
              "   TN  TG  TR  UP  UT  WB  \n",
              "0   1   1   0  12   0   0  \n",
              "1   0   0   0   4   0   0  \n",
              "2   0   0   0   0   0   0  \n",
              "3   0   2   0   1   0   0  \n",
              "4   0   1   0   0   0   0  \n",
              "\n",
              "[5 rows x 40 columns]"
            ],
            "text/html": [
              "\n",
              "  <div id=\"df-2ea46825-660c-4b54-8f5a-1365824bd512\">\n",
              "    <div class=\"colab-df-container\">\n",
              "      <div>\n",
              "<style scoped>\n",
              "    .dataframe tbody tr th:only-of-type {\n",
              "        vertical-align: middle;\n",
              "    }\n",
              "\n",
              "    .dataframe tbody tr th {\n",
              "        vertical-align: top;\n",
              "    }\n",
              "\n",
              "    .dataframe thead th {\n",
              "        text-align: right;\n",
              "    }\n",
              "</style>\n",
              "<table border=\"1\" class=\"dataframe\">\n",
              "  <thead>\n",
              "    <tr style=\"text-align: right;\">\n",
              "      <th></th>\n",
              "      <th>Date</th>\n",
              "      <th>Status</th>\n",
              "      <th>TT</th>\n",
              "      <th>AN</th>\n",
              "      <th>AP</th>\n",
              "      <th>AR</th>\n",
              "      <th>AS</th>\n",
              "      <th>BR</th>\n",
              "      <th>CH</th>\n",
              "      <th>CT</th>\n",
              "      <th>...</th>\n",
              "      <th>PY</th>\n",
              "      <th>PB</th>\n",
              "      <th>RJ</th>\n",
              "      <th>SK</th>\n",
              "      <th>TN</th>\n",
              "      <th>TG</th>\n",
              "      <th>TR</th>\n",
              "      <th>UP</th>\n",
              "      <th>UT</th>\n",
              "      <th>WB</th>\n",
              "    </tr>\n",
              "  </thead>\n",
              "  <tbody>\n",
              "    <tr>\n",
              "      <th>0</th>\n",
              "      <td>14-Mar-20</td>\n",
              "      <td>Confirmed</td>\n",
              "      <td>79</td>\n",
              "      <td>0</td>\n",
              "      <td>1.0</td>\n",
              "      <td>0</td>\n",
              "      <td>0</td>\n",
              "      <td>0</td>\n",
              "      <td>0</td>\n",
              "      <td>0</td>\n",
              "      <td>...</td>\n",
              "      <td>0</td>\n",
              "      <td>1</td>\n",
              "      <td>3</td>\n",
              "      <td>0</td>\n",
              "      <td>1</td>\n",
              "      <td>1</td>\n",
              "      <td>0</td>\n",
              "      <td>12</td>\n",
              "      <td>0</td>\n",
              "      <td>0</td>\n",
              "    </tr>\n",
              "    <tr>\n",
              "      <th>1</th>\n",
              "      <td>14-Mar-20</td>\n",
              "      <td>Recovered</td>\n",
              "      <td>9</td>\n",
              "      <td>0</td>\n",
              "      <td>0.0</td>\n",
              "      <td>0</td>\n",
              "      <td>0</td>\n",
              "      <td>0</td>\n",
              "      <td>0</td>\n",
              "      <td>0</td>\n",
              "      <td>...</td>\n",
              "      <td>0</td>\n",
              "      <td>0</td>\n",
              "      <td>1</td>\n",
              "      <td>0</td>\n",
              "      <td>0</td>\n",
              "      <td>0</td>\n",
              "      <td>0</td>\n",
              "      <td>4</td>\n",
              "      <td>0</td>\n",
              "      <td>0</td>\n",
              "    </tr>\n",
              "    <tr>\n",
              "      <th>2</th>\n",
              "      <td>14-Mar-20</td>\n",
              "      <td>Deceased</td>\n",
              "      <td>2</td>\n",
              "      <td>0</td>\n",
              "      <td>0.0</td>\n",
              "      <td>0</td>\n",
              "      <td>0</td>\n",
              "      <td>0</td>\n",
              "      <td>0</td>\n",
              "      <td>0</td>\n",
              "      <td>...</td>\n",
              "      <td>0</td>\n",
              "      <td>0</td>\n",
              "      <td>0</td>\n",
              "      <td>0</td>\n",
              "      <td>0</td>\n",
              "      <td>0</td>\n",
              "      <td>0</td>\n",
              "      <td>0</td>\n",
              "      <td>0</td>\n",
              "      <td>0</td>\n",
              "    </tr>\n",
              "    <tr>\n",
              "      <th>3</th>\n",
              "      <td>15-Mar-20</td>\n",
              "      <td>Confirmed</td>\n",
              "      <td>28</td>\n",
              "      <td>0</td>\n",
              "      <td>0.0</td>\n",
              "      <td>0</td>\n",
              "      <td>0</td>\n",
              "      <td>0</td>\n",
              "      <td>0</td>\n",
              "      <td>0</td>\n",
              "      <td>...</td>\n",
              "      <td>0</td>\n",
              "      <td>0</td>\n",
              "      <td>1</td>\n",
              "      <td>0</td>\n",
              "      <td>0</td>\n",
              "      <td>2</td>\n",
              "      <td>0</td>\n",
              "      <td>1</td>\n",
              "      <td>0</td>\n",
              "      <td>0</td>\n",
              "    </tr>\n",
              "    <tr>\n",
              "      <th>4</th>\n",
              "      <td>15-Mar-20</td>\n",
              "      <td>Recovered</td>\n",
              "      <td>4</td>\n",
              "      <td>0</td>\n",
              "      <td>0.0</td>\n",
              "      <td>0</td>\n",
              "      <td>0</td>\n",
              "      <td>0</td>\n",
              "      <td>0</td>\n",
              "      <td>0</td>\n",
              "      <td>...</td>\n",
              "      <td>0</td>\n",
              "      <td>0</td>\n",
              "      <td>2</td>\n",
              "      <td>0</td>\n",
              "      <td>0</td>\n",
              "      <td>1</td>\n",
              "      <td>0</td>\n",
              "      <td>0</td>\n",
              "      <td>0</td>\n",
              "      <td>0</td>\n",
              "    </tr>\n",
              "  </tbody>\n",
              "</table>\n",
              "<p>5 rows × 40 columns</p>\n",
              "</div>\n",
              "      <button class=\"colab-df-convert\" onclick=\"convertToInteractive('df-2ea46825-660c-4b54-8f5a-1365824bd512')\"\n",
              "              title=\"Convert this dataframe to an interactive table.\"\n",
              "              style=\"display:none;\">\n",
              "        \n",
              "  <svg xmlns=\"http://www.w3.org/2000/svg\" height=\"24px\"viewBox=\"0 0 24 24\"\n",
              "       width=\"24px\">\n",
              "    <path d=\"M0 0h24v24H0V0z\" fill=\"none\"/>\n",
              "    <path d=\"M18.56 5.44l.94 2.06.94-2.06 2.06-.94-2.06-.94-.94-2.06-.94 2.06-2.06.94zm-11 1L8.5 8.5l.94-2.06 2.06-.94-2.06-.94L8.5 2.5l-.94 2.06-2.06.94zm10 10l.94 2.06.94-2.06 2.06-.94-2.06-.94-.94-2.06-.94 2.06-2.06.94z\"/><path d=\"M17.41 7.96l-1.37-1.37c-.4-.4-.92-.59-1.43-.59-.52 0-1.04.2-1.43.59L10.3 9.45l-7.72 7.72c-.78.78-.78 2.05 0 2.83L4 21.41c.39.39.9.59 1.41.59.51 0 1.02-.2 1.41-.59l7.78-7.78 2.81-2.81c.8-.78.8-2.07 0-2.86zM5.41 20L4 18.59l7.72-7.72 1.47 1.35L5.41 20z\"/>\n",
              "  </svg>\n",
              "      </button>\n",
              "      \n",
              "  <style>\n",
              "    .colab-df-container {\n",
              "      display:flex;\n",
              "      flex-wrap:wrap;\n",
              "      gap: 12px;\n",
              "    }\n",
              "\n",
              "    .colab-df-convert {\n",
              "      background-color: #E8F0FE;\n",
              "      border: none;\n",
              "      border-radius: 50%;\n",
              "      cursor: pointer;\n",
              "      display: none;\n",
              "      fill: #1967D2;\n",
              "      height: 32px;\n",
              "      padding: 0 0 0 0;\n",
              "      width: 32px;\n",
              "    }\n",
              "\n",
              "    .colab-df-convert:hover {\n",
              "      background-color: #E2EBFA;\n",
              "      box-shadow: 0px 1px 2px rgba(60, 64, 67, 0.3), 0px 1px 3px 1px rgba(60, 64, 67, 0.15);\n",
              "      fill: #174EA6;\n",
              "    }\n",
              "\n",
              "    [theme=dark] .colab-df-convert {\n",
              "      background-color: #3B4455;\n",
              "      fill: #D2E3FC;\n",
              "    }\n",
              "\n",
              "    [theme=dark] .colab-df-convert:hover {\n",
              "      background-color: #434B5C;\n",
              "      box-shadow: 0px 1px 3px 1px rgba(0, 0, 0, 0.15);\n",
              "      filter: drop-shadow(0px 1px 2px rgba(0, 0, 0, 0.3));\n",
              "      fill: #FFFFFF;\n",
              "    }\n",
              "  </style>\n",
              "\n",
              "      <script>\n",
              "        const buttonEl =\n",
              "          document.querySelector('#df-2ea46825-660c-4b54-8f5a-1365824bd512 button.colab-df-convert');\n",
              "        buttonEl.style.display =\n",
              "          google.colab.kernel.accessAllowed ? 'block' : 'none';\n",
              "\n",
              "        async function convertToInteractive(key) {\n",
              "          const element = document.querySelector('#df-2ea46825-660c-4b54-8f5a-1365824bd512');\n",
              "          const dataTable =\n",
              "            await google.colab.kernel.invokeFunction('convertToInteractive',\n",
              "                                                     [key], {});\n",
              "          if (!dataTable) return;\n",
              "\n",
              "          const docLinkHtml = 'Like what you see? Visit the ' +\n",
              "            '<a target=\"_blank\" href=https://colab.research.google.com/notebooks/data_table.ipynb>data table notebook</a>'\n",
              "            + ' to learn more about interactive tables.';\n",
              "          element.innerHTML = '';\n",
              "          dataTable['output_type'] = 'display_data';\n",
              "          await google.colab.output.renderOutput(dataTable, element);\n",
              "          const docLink = document.createElement('div');\n",
              "          docLink.innerHTML = docLinkHtml;\n",
              "          element.appendChild(docLink);\n",
              "        }\n",
              "      </script>\n",
              "    </div>\n",
              "  </div>\n",
              "  "
            ]
          },
          "metadata": {},
          "execution_count": 9
        }
      ]
    },
    {
      "cell_type": "code",
      "source": [
        "total.head()"
      ],
      "metadata": {
        "colab": {
          "base_uri": "https://localhost:8080/",
          "height": 206
        },
        "id": "6zLbns5wOPqc",
        "outputId": "fa3d9cdd-2309-4c6c-a7b3-83aa038a62b8"
      },
      "execution_count": 10,
      "outputs": [
        {
          "output_type": "execute_result",
          "data": {
            "text/plain": [
              "         State  ConfirmeConfirmed  Recovered  Deaths  Active  \\\n",
              "0        Total               9075       1061     303    7711   \n",
              "1  Maharashtra               1895        208     127    1560   \n",
              "2   Tamil Nadu               1075         50      11    1014   \n",
              "3        Delhi               1154         28      24    1102   \n",
              "4    Telangana                503         96      14     393   \n",
              "\n",
              "     Last_Updated_Time State_code  Delta_Confirmed  Delta_Recovered  \\\n",
              "0  12/04/2020 20:30:24         TT              623               89   \n",
              "1  12/04/2020 14:35:24         MH              134                0   \n",
              "2  12/04/2020 18:10:24         TN              106                6   \n",
              "3  12/04/2020 20:30:25         DL               85                1   \n",
              "4  11/04/2020 22:10:24         TG                0                0   \n",
              "\n",
              "   Delta_Deaths  \n",
              "0            14  \n",
              "1             0  \n",
              "2             1  \n",
              "3             5  \n",
              "4             0  "
            ],
            "text/html": [
              "\n",
              "  <div id=\"df-0da707b0-25ac-48ce-9089-09c0e9a94aa5\">\n",
              "    <div class=\"colab-df-container\">\n",
              "      <div>\n",
              "<style scoped>\n",
              "    .dataframe tbody tr th:only-of-type {\n",
              "        vertical-align: middle;\n",
              "    }\n",
              "\n",
              "    .dataframe tbody tr th {\n",
              "        vertical-align: top;\n",
              "    }\n",
              "\n",
              "    .dataframe thead th {\n",
              "        text-align: right;\n",
              "    }\n",
              "</style>\n",
              "<table border=\"1\" class=\"dataframe\">\n",
              "  <thead>\n",
              "    <tr style=\"text-align: right;\">\n",
              "      <th></th>\n",
              "      <th>State</th>\n",
              "      <th>ConfirmeConfirmed</th>\n",
              "      <th>Recovered</th>\n",
              "      <th>Deaths</th>\n",
              "      <th>Active</th>\n",
              "      <th>Last_Updated_Time</th>\n",
              "      <th>State_code</th>\n",
              "      <th>Delta_Confirmed</th>\n",
              "      <th>Delta_Recovered</th>\n",
              "      <th>Delta_Deaths</th>\n",
              "    </tr>\n",
              "  </thead>\n",
              "  <tbody>\n",
              "    <tr>\n",
              "      <th>0</th>\n",
              "      <td>Total</td>\n",
              "      <td>9075</td>\n",
              "      <td>1061</td>\n",
              "      <td>303</td>\n",
              "      <td>7711</td>\n",
              "      <td>12/04/2020 20:30:24</td>\n",
              "      <td>TT</td>\n",
              "      <td>623</td>\n",
              "      <td>89</td>\n",
              "      <td>14</td>\n",
              "    </tr>\n",
              "    <tr>\n",
              "      <th>1</th>\n",
              "      <td>Maharashtra</td>\n",
              "      <td>1895</td>\n",
              "      <td>208</td>\n",
              "      <td>127</td>\n",
              "      <td>1560</td>\n",
              "      <td>12/04/2020 14:35:24</td>\n",
              "      <td>MH</td>\n",
              "      <td>134</td>\n",
              "      <td>0</td>\n",
              "      <td>0</td>\n",
              "    </tr>\n",
              "    <tr>\n",
              "      <th>2</th>\n",
              "      <td>Tamil Nadu</td>\n",
              "      <td>1075</td>\n",
              "      <td>50</td>\n",
              "      <td>11</td>\n",
              "      <td>1014</td>\n",
              "      <td>12/04/2020 18:10:24</td>\n",
              "      <td>TN</td>\n",
              "      <td>106</td>\n",
              "      <td>6</td>\n",
              "      <td>1</td>\n",
              "    </tr>\n",
              "    <tr>\n",
              "      <th>3</th>\n",
              "      <td>Delhi</td>\n",
              "      <td>1154</td>\n",
              "      <td>28</td>\n",
              "      <td>24</td>\n",
              "      <td>1102</td>\n",
              "      <td>12/04/2020 20:30:25</td>\n",
              "      <td>DL</td>\n",
              "      <td>85</td>\n",
              "      <td>1</td>\n",
              "      <td>5</td>\n",
              "    </tr>\n",
              "    <tr>\n",
              "      <th>4</th>\n",
              "      <td>Telangana</td>\n",
              "      <td>503</td>\n",
              "      <td>96</td>\n",
              "      <td>14</td>\n",
              "      <td>393</td>\n",
              "      <td>11/04/2020 22:10:24</td>\n",
              "      <td>TG</td>\n",
              "      <td>0</td>\n",
              "      <td>0</td>\n",
              "      <td>0</td>\n",
              "    </tr>\n",
              "  </tbody>\n",
              "</table>\n",
              "</div>\n",
              "      <button class=\"colab-df-convert\" onclick=\"convertToInteractive('df-0da707b0-25ac-48ce-9089-09c0e9a94aa5')\"\n",
              "              title=\"Convert this dataframe to an interactive table.\"\n",
              "              style=\"display:none;\">\n",
              "        \n",
              "  <svg xmlns=\"http://www.w3.org/2000/svg\" height=\"24px\"viewBox=\"0 0 24 24\"\n",
              "       width=\"24px\">\n",
              "    <path d=\"M0 0h24v24H0V0z\" fill=\"none\"/>\n",
              "    <path d=\"M18.56 5.44l.94 2.06.94-2.06 2.06-.94-2.06-.94-.94-2.06-.94 2.06-2.06.94zm-11 1L8.5 8.5l.94-2.06 2.06-.94-2.06-.94L8.5 2.5l-.94 2.06-2.06.94zm10 10l.94 2.06.94-2.06 2.06-.94-2.06-.94-.94-2.06-.94 2.06-2.06.94z\"/><path d=\"M17.41 7.96l-1.37-1.37c-.4-.4-.92-.59-1.43-.59-.52 0-1.04.2-1.43.59L10.3 9.45l-7.72 7.72c-.78.78-.78 2.05 0 2.83L4 21.41c.39.39.9.59 1.41.59.51 0 1.02-.2 1.41-.59l7.78-7.78 2.81-2.81c.8-.78.8-2.07 0-2.86zM5.41 20L4 18.59l7.72-7.72 1.47 1.35L5.41 20z\"/>\n",
              "  </svg>\n",
              "      </button>\n",
              "      \n",
              "  <style>\n",
              "    .colab-df-container {\n",
              "      display:flex;\n",
              "      flex-wrap:wrap;\n",
              "      gap: 12px;\n",
              "    }\n",
              "\n",
              "    .colab-df-convert {\n",
              "      background-color: #E8F0FE;\n",
              "      border: none;\n",
              "      border-radius: 50%;\n",
              "      cursor: pointer;\n",
              "      display: none;\n",
              "      fill: #1967D2;\n",
              "      height: 32px;\n",
              "      padding: 0 0 0 0;\n",
              "      width: 32px;\n",
              "    }\n",
              "\n",
              "    .colab-df-convert:hover {\n",
              "      background-color: #E2EBFA;\n",
              "      box-shadow: 0px 1px 2px rgba(60, 64, 67, 0.3), 0px 1px 3px 1px rgba(60, 64, 67, 0.15);\n",
              "      fill: #174EA6;\n",
              "    }\n",
              "\n",
              "    [theme=dark] .colab-df-convert {\n",
              "      background-color: #3B4455;\n",
              "      fill: #D2E3FC;\n",
              "    }\n",
              "\n",
              "    [theme=dark] .colab-df-convert:hover {\n",
              "      background-color: #434B5C;\n",
              "      box-shadow: 0px 1px 3px 1px rgba(0, 0, 0, 0.15);\n",
              "      filter: drop-shadow(0px 1px 2px rgba(0, 0, 0, 0.3));\n",
              "      fill: #FFFFFF;\n",
              "    }\n",
              "  </style>\n",
              "\n",
              "      <script>\n",
              "        const buttonEl =\n",
              "          document.querySelector('#df-0da707b0-25ac-48ce-9089-09c0e9a94aa5 button.colab-df-convert');\n",
              "        buttonEl.style.display =\n",
              "          google.colab.kernel.accessAllowed ? 'block' : 'none';\n",
              "\n",
              "        async function convertToInteractive(key) {\n",
              "          const element = document.querySelector('#df-0da707b0-25ac-48ce-9089-09c0e9a94aa5');\n",
              "          const dataTable =\n",
              "            await google.colab.kernel.invokeFunction('convertToInteractive',\n",
              "                                                     [key], {});\n",
              "          if (!dataTable) return;\n",
              "\n",
              "          const docLinkHtml = 'Like what you see? Visit the ' +\n",
              "            '<a target=\"_blank\" href=https://colab.research.google.com/notebooks/data_table.ipynb>data table notebook</a>'\n",
              "            + ' to learn more about interactive tables.';\n",
              "          element.innerHTML = '';\n",
              "          dataTable['output_type'] = 'display_data';\n",
              "          await google.colab.output.renderOutput(dataTable, element);\n",
              "          const docLink = document.createElement('div');\n",
              "          docLink.innerHTML = docLinkHtml;\n",
              "          element.appendChild(docLink);\n",
              "        }\n",
              "      </script>\n",
              "    </div>\n",
              "  </div>\n",
              "  "
            ]
          },
          "metadata": {},
          "execution_count": 10
        }
      ]
    },
    {
      "cell_type": "code",
      "source": [
        "code.head()"
      ],
      "metadata": {
        "colab": {
          "base_uri": "https://localhost:8080/",
          "height": 206
        },
        "id": "fUVhsynOOTG4",
        "outputId": "13e0898d-b33e-4e77-85cc-c70f45f6189e"
      },
      "execution_count": 11,
      "outputs": [
        {
          "output_type": "execute_result",
          "data": {
            "text/plain": [
              "   No.          State/ UT Abbreviation\n",
              "0    1     Andhra Pradesh           AP\n",
              "1    2  Arunachal Pradesh           AR\n",
              "2    3              Assam           AS\n",
              "3    4              Bihar           BR\n",
              "4    5       Chhattisgarh           CT"
            ],
            "text/html": [
              "\n",
              "  <div id=\"df-a647b771-554f-4c94-b254-5f2ca51571b7\">\n",
              "    <div class=\"colab-df-container\">\n",
              "      <div>\n",
              "<style scoped>\n",
              "    .dataframe tbody tr th:only-of-type {\n",
              "        vertical-align: middle;\n",
              "    }\n",
              "\n",
              "    .dataframe tbody tr th {\n",
              "        vertical-align: top;\n",
              "    }\n",
              "\n",
              "    .dataframe thead th {\n",
              "        text-align: right;\n",
              "    }\n",
              "</style>\n",
              "<table border=\"1\" class=\"dataframe\">\n",
              "  <thead>\n",
              "    <tr style=\"text-align: right;\">\n",
              "      <th></th>\n",
              "      <th>No.</th>\n",
              "      <th>State/ UT</th>\n",
              "      <th>Abbreviation</th>\n",
              "    </tr>\n",
              "  </thead>\n",
              "  <tbody>\n",
              "    <tr>\n",
              "      <th>0</th>\n",
              "      <td>1</td>\n",
              "      <td>Andhra Pradesh</td>\n",
              "      <td>AP</td>\n",
              "    </tr>\n",
              "    <tr>\n",
              "      <th>1</th>\n",
              "      <td>2</td>\n",
              "      <td>Arunachal Pradesh</td>\n",
              "      <td>AR</td>\n",
              "    </tr>\n",
              "    <tr>\n",
              "      <th>2</th>\n",
              "      <td>3</td>\n",
              "      <td>Assam</td>\n",
              "      <td>AS</td>\n",
              "    </tr>\n",
              "    <tr>\n",
              "      <th>3</th>\n",
              "      <td>4</td>\n",
              "      <td>Bihar</td>\n",
              "      <td>BR</td>\n",
              "    </tr>\n",
              "    <tr>\n",
              "      <th>4</th>\n",
              "      <td>5</td>\n",
              "      <td>Chhattisgarh</td>\n",
              "      <td>CT</td>\n",
              "    </tr>\n",
              "  </tbody>\n",
              "</table>\n",
              "</div>\n",
              "      <button class=\"colab-df-convert\" onclick=\"convertToInteractive('df-a647b771-554f-4c94-b254-5f2ca51571b7')\"\n",
              "              title=\"Convert this dataframe to an interactive table.\"\n",
              "              style=\"display:none;\">\n",
              "        \n",
              "  <svg xmlns=\"http://www.w3.org/2000/svg\" height=\"24px\"viewBox=\"0 0 24 24\"\n",
              "       width=\"24px\">\n",
              "    <path d=\"M0 0h24v24H0V0z\" fill=\"none\"/>\n",
              "    <path d=\"M18.56 5.44l.94 2.06.94-2.06 2.06-.94-2.06-.94-.94-2.06-.94 2.06-2.06.94zm-11 1L8.5 8.5l.94-2.06 2.06-.94-2.06-.94L8.5 2.5l-.94 2.06-2.06.94zm10 10l.94 2.06.94-2.06 2.06-.94-2.06-.94-.94-2.06-.94 2.06-2.06.94z\"/><path d=\"M17.41 7.96l-1.37-1.37c-.4-.4-.92-.59-1.43-.59-.52 0-1.04.2-1.43.59L10.3 9.45l-7.72 7.72c-.78.78-.78 2.05 0 2.83L4 21.41c.39.39.9.59 1.41.59.51 0 1.02-.2 1.41-.59l7.78-7.78 2.81-2.81c.8-.78.8-2.07 0-2.86zM5.41 20L4 18.59l7.72-7.72 1.47 1.35L5.41 20z\"/>\n",
              "  </svg>\n",
              "      </button>\n",
              "      \n",
              "  <style>\n",
              "    .colab-df-container {\n",
              "      display:flex;\n",
              "      flex-wrap:wrap;\n",
              "      gap: 12px;\n",
              "    }\n",
              "\n",
              "    .colab-df-convert {\n",
              "      background-color: #E8F0FE;\n",
              "      border: none;\n",
              "      border-radius: 50%;\n",
              "      cursor: pointer;\n",
              "      display: none;\n",
              "      fill: #1967D2;\n",
              "      height: 32px;\n",
              "      padding: 0 0 0 0;\n",
              "      width: 32px;\n",
              "    }\n",
              "\n",
              "    .colab-df-convert:hover {\n",
              "      background-color: #E2EBFA;\n",
              "      box-shadow: 0px 1px 2px rgba(60, 64, 67, 0.3), 0px 1px 3px 1px rgba(60, 64, 67, 0.15);\n",
              "      fill: #174EA6;\n",
              "    }\n",
              "\n",
              "    [theme=dark] .colab-df-convert {\n",
              "      background-color: #3B4455;\n",
              "      fill: #D2E3FC;\n",
              "    }\n",
              "\n",
              "    [theme=dark] .colab-df-convert:hover {\n",
              "      background-color: #434B5C;\n",
              "      box-shadow: 0px 1px 3px 1px rgba(0, 0, 0, 0.15);\n",
              "      filter: drop-shadow(0px 1px 2px rgba(0, 0, 0, 0.3));\n",
              "      fill: #FFFFFF;\n",
              "    }\n",
              "  </style>\n",
              "\n",
              "      <script>\n",
              "        const buttonEl =\n",
              "          document.querySelector('#df-a647b771-554f-4c94-b254-5f2ca51571b7 button.colab-df-convert');\n",
              "        buttonEl.style.display =\n",
              "          google.colab.kernel.accessAllowed ? 'block' : 'none';\n",
              "\n",
              "        async function convertToInteractive(key) {\n",
              "          const element = document.querySelector('#df-a647b771-554f-4c94-b254-5f2ca51571b7');\n",
              "          const dataTable =\n",
              "            await google.colab.kernel.invokeFunction('convertToInteractive',\n",
              "                                                     [key], {});\n",
              "          if (!dataTable) return;\n",
              "\n",
              "          const docLinkHtml = 'Like what you see? Visit the ' +\n",
              "            '<a target=\"_blank\" href=https://colab.research.google.com/notebooks/data_table.ipynb>data table notebook</a>'\n",
              "            + ' to learn more about interactive tables.';\n",
              "          element.innerHTML = '';\n",
              "          dataTable['output_type'] = 'display_data';\n",
              "          await google.colab.output.renderOutput(dataTable, element);\n",
              "          const docLink = document.createElement('div');\n",
              "          docLink.innerHTML = docLinkHtml;\n",
              "          element.appendChild(docLink);\n",
              "        }\n",
              "      </script>\n",
              "    </div>\n",
              "  </div>\n",
              "  "
            ]
          },
          "metadata": {},
          "execution_count": 11
        }
      ]
    },
    {
      "cell_type": "markdown",
      "source": [
        "#Data Visualization"
      ],
      "metadata": {
        "id": "JSL4GFscOXk2"
      }
    },
    {
      "cell_type": "code",
      "source": [
        "India=[[],[],[]]\n",
        "India[0] = list(country[\"Total Confirmed\"])\n",
        "India[1] = list(country[\"Total Recovered\"])\n",
        "India[2] = list(country[\"Total Deceased\"])"
      ],
      "metadata": {
        "id": "yDiz0kWYOee-"
      },
      "execution_count": 12,
      "outputs": []
    },
    {
      "cell_type": "code",
      "source": [
        "sr=[]\n",
        "for i in range(74):\n",
        "    sr.append(i)\n",
        "plt.plot(sr,India[0] , c= \"blue\",label = \"Confirmed\")\n",
        "plt.plot(sr,India[1] , c= \"green\",label = \"Recovered\")\n",
        "plt.plot(sr,India[2] , c= \"red\",label = \"Deaths\")\n",
        "plt.xlabel(\"Number of days\")\n",
        "plt.ylabel(\"Number of cases\")\n",
        "plt.title(\"India\")\n",
        "plt.legend()"
      ],
      "metadata": {
        "colab": {
          "base_uri": "https://localhost:8080/",
          "height": 312
        },
        "id": "fgAGCfNsPBx1",
        "outputId": "3eaed6f1-cd26-4bf2-e2d0-5c99c488d9fb"
      },
      "execution_count": 20,
      "outputs": [
        {
          "output_type": "execute_result",
          "data": {
            "text/plain": [
              "<matplotlib.legend.Legend at 0x7f314bec1610>"
            ]
          },
          "metadata": {},
          "execution_count": 20
        },
        {
          "output_type": "display_data",
          "data": {
            "text/plain": [
              "<Figure size 432x288 with 1 Axes>"
            ],
            "image/png": "[encoded data removed]"
          },
          "metadata": {
            "needs_background": "light"
          }
        }
      ]
    },
    {
      "cell_type": "markdown",
      "source": [
        "###The graph is exponential in nature"
      ],
      "metadata": {
        "id": "IzxxUQGiPS2S"
      }
    },
    {
      "cell_type": "code",
      "source": [
        "dif = [[],[],[]]\n",
        "for i in range(len(India[0])-1):\n",
        "    dif[0].append(India[0][i+1] - India[0][i])\n",
        "    dif[1].append(India[1][i+1] - India[1][i])\n",
        "    dif[2].append(India[2][i+1] - India[2][i])"
      ],
      "metadata": {
        "id": "xT56jLq6PaGE"
      },
      "execution_count": 22,
      "outputs": []
    },
    {
      "cell_type": "code",
      "source": [
        "del(sr[73])\n",
        "plt.plot(sr,dif[0] , c= \"blue\",label = \"Confirmed\")\n",
        "\n",
        "plt.plot(sr,dif[1] , c= \"green\",label = \"Recovered\")\n",
        "plt.plot(sr,dif[2] , c= \"red\",label = \"Deaths\")\n",
        "plt.xlabel(\"Number of days\")\n",
        "plt.ylabel(\"Number of cases per day\")\n",
        "plt.title(\"India\")\n",
        "plt.legend()"
      ],
      "metadata": {
        "colab": {
          "base_uri": "https://localhost:8080/",
          "height": 312
        },
        "id": "a_TbCDCjPhCN",
        "outputId": "3d054cfe-98ae-4a7b-a9f0-103017e849f5"
      },
      "execution_count": 25,
      "outputs": [
        {
          "output_type": "execute_result",
          "data": {
            "text/plain": [
              "<matplotlib.legend.Legend at 0x7f314e79d150>"
            ]
          },
          "metadata": {},
          "execution_count": 25
        },
        {
          "output_type": "display_data",
          "data": {
            "text/plain": [
              "<Figure size 432x288 with 1 Axes>"
            ],
            "image/png": "[encoded data removed]"
          },
          "metadata": {
            "needs_background": "light"
          }
        }
      ]
    },
    {
      "cell_type": "markdown",
      "source": [
        "##Further aim will be to calculate the relation between the stages"
      ],
      "metadata": {
        "id": "1KevHcERSEud"
      }
    },
    {
      "cell_type": "code",
      "source": [
        "stage1 = []\n",
        "stage2 = []\n",
        "stage3 = []\n",
        "stage4 = []\n",
        "stage5 = []\n",
        "for i in range(len(India[0])):\n",
        "    if(India[0][i]/10 < 1):\n",
        "        stage1.append(India[0][i])\n",
        "    elif(India[0][i]/10 > 1 and India[0][i]/100 < 1):\n",
        "        stage2.append(India[0][i])\n",
        "    elif(India[0][i]/10 > 1 and India[0][i]/100 >1 and India[0][i]/1000 < 1 ):\n",
        "        stage3.append(India[0][i])\n",
        "    elif(India[0][i]/10 > 1 and India[0][i]/100 >1 and India[0][i]/1000 > 1 and India[0][i]/10000 < 1):\n",
        "        stage4.append(India[0][i])\n",
        "    else:\n",
        "        stage5.append(India[0][i])"
      ],
      "metadata": {
        "id": "AiVEiJypSXK5"
      },
      "execution_count": 26,
      "outputs": []
    },
    {
      "cell_type": "code",
      "source": [
        "print(len(stage1))\n",
        "print(len(stage2))\n",
        "print(len(stage3))\n",
        "print(len(stage4))\n",
        "print(len(stage5))"
      ],
      "metadata": {
        "colab": {
          "base_uri": "https://localhost:8080/"
        },
        "id": "InbYPWmBShD2",
        "outputId": "87b14644-0714-44c0-d9ab-8f7cbefd670f"
      },
      "execution_count": 27,
      "outputs": [
        {
          "output_type": "stream",
          "name": "stdout",
          "text": [
            "34\n",
            "10\n",
            "14\n",
            "16\n",
            "0\n"
          ]
        }
      ]
    },
    {
      "cell_type": "code",
      "source": [
        "def serial(x):\n",
        "    sr=[]\n",
        "    for i in range(x):\n",
        "        sr.append(i)\n",
        "    return sr"
      ],
      "metadata": {
        "id": "xkd_ijxbSjFj"
      },
      "execution_count": 28,
      "outputs": []
    },
    {
      "cell_type": "markdown",
      "source": [
        "###Creating a parameter list to store all the essential parameter for calculation of stages"
      ],
      "metadata": {
        "id": "ckrPIw99Snot"
      }
    },
    {
      "cell_type": "code",
      "source": [
        "parameter = []"
      ],
      "metadata": {
        "id": "5QO8sY-2Sv0n"
      },
      "execution_count": 29,
      "outputs": []
    },
    {
      "cell_type": "markdown",
      "source": [
        "###Creating a Regression function to find the essential Parameters"
      ],
      "metadata": {
        "id": "eX9YUuN0Sx-m"
      }
    },
    {
      "cell_type": "code",
      "source": [
        "def Regression(x,y):\n",
        "    ja=[]\n",
        "    p=[]\n",
        "    i=0\n",
        "    while(i<1000):\n",
        "        for j in range(10):\n",
        "            suma = 0.1 * j + i\n",
        "            result = 0\n",
        "            p.append(suma)\n",
        "            for k in range(len(x)):\n",
        "                h = suma*x[k]\n",
        "                temp = y[k] - h\n",
        "                if(temp < 0):\n",
        "                    temp = -1*temp\n",
        "                result = result + temp\n",
        "            ja.append(result)\n",
        "        i = i+1\n",
        "    for i in range(len(ja)):\n",
        "        if(ja[i] == min(ja)):\n",
        "            index = p[i]\n",
        "    ypred = []\n",
        "    for i in range(len(x)):\n",
        "        h = index *x[i]\n",
        "        ypred.append(h)\n",
        "    plt.scatter(x,y,color = \"blue\")\n",
        "    plt.plot(x,ypred , color = \"red\")\n",
        "    plt.xlabel(\"Number of days\")\n",
        "    plt.ylabel(\"Number of Cases\")\n",
        "    return index"
      ],
      "metadata": {
        "id": "NZeMTYnAS42I"
      },
      "execution_count": 30,
      "outputs": []
    },
    {
      "cell_type": "markdown",
      "source": [
        "###Finding the coefficient of all the stages using regression function"
      ],
      "metadata": {
        "id": "-YWDYkKITHS1"
      }
    },
    {
      "cell_type": "code",
      "source": [
        "stage = [stage1,stage2,stage3,stage4]"
      ],
      "metadata": {
        "id": "ZIEcc2w0TKtF"
      },
      "execution_count": 31,
      "outputs": []
    },
    {
      "cell_type": "code",
      "source": [
        "sr = serial(len(stage[0]))\n",
        "parameter.append(Regression(sr,stage[0]))"
      ],
      "metadata": {
        "colab": {
          "base_uri": "https://localhost:8080/",
          "height": 279
        },
        "id": "WJrRz6X1TN0y",
        "outputId": "af249633-ccae-40ff-fcea-662e7f3ab3f3"
      },
      "execution_count": 32,
      "outputs": [
        {
          "output_type": "display_data",
          "data": {
            "text/plain": [
              "<Figure size 432x288 with 1 Axes>"
            ],
            "image/png": "[encoded data removed]"
          },
          "metadata": {
            "needs_background": "light"
          }
        }
      ]
    },
    {
      "cell_type": "code",
      "source": [
        "sr = serial(len(stage[1]))\n",
        "parameter.append(Regression(sr,stage[1]))"
      ],
      "metadata": {
        "colab": {
          "base_uri": "https://localhost:8080/",
          "height": 279
        },
        "id": "GBmHZU90TRfA",
        "outputId": "d3d513cd-4eeb-4b89-e9fb-7bfe11d18cc0"
      },
      "execution_count": 33,
      "outputs": [
        {
          "output_type": "display_data",
          "data": {
            "text/plain": [
              "<Figure size 432x288 with 1 Axes>"
            ],
            "image/png": "[encoded data removed]"
          },
          "metadata": {
            "needs_background": "light"
          }
        }
      ]
    },
    {
      "cell_type": "code",
      "source": [
        "sr = serial(len(stage[2]))\n",
        "parameter.append(Regression(sr,stage[2]))"
      ],
      "metadata": {
        "colab": {
          "base_uri": "https://localhost:8080/",
          "height": 279
        },
        "id": "-nnRdzLgTVoG",
        "outputId": "0e496b95-6968-4a0e-b9ca-32e3d2611217"
      },
      "execution_count": 34,
      "outputs": [
        {
          "output_type": "display_data",
          "data": {
            "text/plain": [
              "<Figure size 432x288 with 1 Axes>"
            ],
            "image/png": "[encoded data removed]"
          },
          "metadata": {
            "needs_background": "light"
          }
        }
      ]
    },
    {
      "cell_type": "code",
      "source": [
        "sr = serial(len(stage[3]))\n",
        "parameter.append(Regression(sr,stage[3]))"
      ],
      "metadata": {
        "colab": {
          "base_uri": "https://localhost:8080/",
          "height": 279
        },
        "id": "0rysBXQQTZdM",
        "outputId": "4b6ceb45-307c-4c9f-fdc4-f6d5e85d7ca4"
      },
      "execution_count": 35,
      "outputs": [
        {
          "output_type": "display_data",
          "data": {
            "text/plain": [
              "<Figure size 432x288 with 1 Axes>"
            ],
            "image/png": "[encoded data removed]"
          },
          "metadata": {
            "needs_background": "light"
          }
        }
      ]
    },
    {
      "cell_type": "code",
      "source": [
        "parameter"
      ],
      "metadata": {
        "colab": {
          "base_uri": "https://localhost:8080/"
        },
        "id": "CL-i1AZbTcBc",
        "outputId": "0db099ec-9087-4ddd-a965-15a0b1ea65ab"
      },
      "execution_count": 36,
      "outputs": [
        {
          "output_type": "execute_result",
          "data": {
            "text/plain": [
              "[0.1, 10.1, 57.1, 544.7]"
            ]
          },
          "metadata": {},
          "execution_count": 36
        }
      ]
    },
    {
      "cell_type": "markdown",
      "source": [
        "###we got essential data to find the relation between the stages as discussed in the documentation###"
      ],
      "metadata": {
        "id": "iFdcPspcThF4"
      }
    },
    {
      "cell_type": "code",
      "source": [
        "stage_relation = []"
      ],
      "metadata": {
        "id": "qz86Ogs8Tea7"
      },
      "execution_count": 37,
      "outputs": []
    },
    {
      "cell_type": "code",
      "source": [
        "for i in range(4):\n",
        "    stage_relation.append(parameter[i]/parameter[0])"
      ],
      "metadata": {
        "id": "F2tD_OHMTonI"
      },
      "execution_count": 38,
      "outputs": []
    },
    {
      "cell_type": "code",
      "source": [
        "stage_relation"
      ],
      "metadata": {
        "colab": {
          "base_uri": "https://localhost:8080/"
        },
        "id": "iLZGgez6Ts24",
        "outputId": "ebc0510a-0ca9-4356-be8d-4e5d0332ae0f"
      },
      "execution_count": 39,
      "outputs": [
        {
          "output_type": "execute_result",
          "data": {
            "text/plain": [
              "[1.0, 100.99999999999999, 571.0, 5447.0]"
            ]
          },
          "metadata": {},
          "execution_count": 39
        }
      ]
    },
    {
      "cell_type": "markdown",
      "source": [
        "###Relation between different stages\n",
        "stage1 = stage1\n",
        "stage2 = 101 * stage1\n",
        "stage3 = 571 * stage1\n",
        "stage4 = 5447 * stage1\n",
        "stage5 is an empty list,\n",
        "\n",
        "Next aim is to find the Levels to find conditional probablity of infection as per documentation"
      ],
      "metadata": {
        "id": "BUaUklanTwWP"
      }
    },
    {
      "cell_type": "code",
      "source": [
        "st_dif=[[],[],[],[]]\n",
        "for i in range(len(India[0])-1):\n",
        "    if(India[0][i]/10 < 1):\n",
        "        st_dif[0].append(dif[0][i])\n",
        "    elif(India[0][i]/10 > 1 and India[0][i]/100 < 1):\n",
        "        st_dif[1].append(dif[0][i])\n",
        "    elif(India[0][i]/10 > 1 and India[0][i]/100 >1 and India[0][i]/1000 < 1 ):\n",
        "        st_dif[2].append(dif[0][i])\n",
        "    elif(India[0][i]/10 > 1 and India[0][i]/100 >1 and India[0][i]/1000 > 1 and India[0][i]/10000 < 1):\n",
        "        st_dif[3].append(dif[0][i])\n",
        "    else:\n",
        "        stage5.append(India[0][i])"
      ],
      "metadata": {
        "id": "tHXFV4svT2OL"
      },
      "execution_count": 40,
      "outputs": []
    },
    {
      "cell_type": "markdown",
      "source": [
        "###Creating a parameter1 list to load essential data of Levels"
      ],
      "metadata": {
        "id": "HIs4Ez60UGjS"
      }
    },
    {
      "cell_type": "code",
      "source": [
        "parameter1=[]"
      ],
      "metadata": {
        "id": "fsTVd458ULpl"
      },
      "execution_count": 41,
      "outputs": []
    },
    {
      "cell_type": "markdown",
      "source": [
        "###Finding the coefficient of all the Levels using regression function"
      ],
      "metadata": {
        "id": "B2gNU2yEUOWA"
      }
    },
    {
      "cell_type": "code",
      "source": [
        "sr = serial(len(st_dif[0]))\n",
        "parameter1.append(Regression(sr,st_dif[0]))"
      ],
      "metadata": {
        "colab": {
          "base_uri": "https://localhost:8080/",
          "height": 279
        },
        "id": "Vx8v7gLfUS46",
        "outputId": "0db62ced-f89d-4e0e-cf72-3a31c3084ec7"
      },
      "execution_count": 42,
      "outputs": [
        {
          "output_type": "display_data",
          "data": {
            "text/plain": [
              "<Figure size 432x288 with 1 Axes>"
            ],
            "image/png": "[encoded data removed]"
          },
          "metadata": {
            "needs_background": "light"
          }
        }
      ]
    },
    {
      "cell_type": "code",
      "source": [
        "sr = serial(len(st_dif[1]))\n",
        "parameter1.append(Regression(sr,st_dif[1]))"
      ],
      "metadata": {
        "colab": {
          "base_uri": "https://localhost:8080/",
          "height": 279
        },
        "id": "FFvzSprvUYMA",
        "outputId": "32095fc5-6665-49fe-c0e2-3837c4992d41"
      },
      "execution_count": 43,
      "outputs": [
        {
          "output_type": "display_data",
          "data": {
            "text/plain": [
              "<Figure size 432x288 with 1 Axes>"
            ],
            "image/png": "[encoded data removed]"
          },
          "metadata": {
            "needs_background": "light"
          }
        }
      ]
    },
    {
      "cell_type": "code",
      "source": [
        "sr = serial(len(st_dif[2]))\n",
        "parameter1.append(Regression(sr,st_dif[2]))"
      ],
      "metadata": {
        "colab": {
          "base_uri": "https://localhost:8080/",
          "height": 283
        },
        "id": "5novLlRmUdXV",
        "outputId": "412744bb-400e-4a59-8a1a-596badac0eea"
      },
      "execution_count": 44,
      "outputs": [
        {
          "output_type": "display_data",
          "data": {
            "text/plain": [
              "<Figure size 432x288 with 1 Axes>"
            ],
            "image/png": "[encoded data removed]"
          },
          "metadata": {
            "needs_background": "light"
          }
        }
      ]
    },
    {
      "cell_type": "code",
      "source": [
        "sr = serial(len(st_dif[3]))\n",
        "parameter1.append(Regression(sr,st_dif[3]))"
      ],
      "metadata": {
        "colab": {
          "base_uri": "https://localhost:8080/",
          "height": 279
        },
        "id": "q3uI8WnQUguR",
        "outputId": "f21dd99d-005d-42dd-a529-1ec59c7ed231"
      },
      "execution_count": 45,
      "outputs": [
        {
          "output_type": "display_data",
          "data": {
            "text/plain": [
              "<Figure size 432x288 with 1 Axes>"
            ],
            "image/png": "[encoded data removed]"
          },
          "metadata": {
            "needs_background": "light"
          }
        }
      ]
    },
    {
      "cell_type": "code",
      "source": [
        "parameter1"
      ],
      "metadata": {
        "colab": {
          "base_uri": "https://localhost:8080/"
        },
        "id": "jhWOD79yUkZz",
        "outputId": "6848cd79-371e-49e4-86ea-4e67b9b24f8a"
      },
      "execution_count": 46,
      "outputs": [
        {
          "output_type": "execute_result",
          "data": {
            "text/plain": [
              "[0.0, 1.4, 10.0, 65.7]"
            ]
          },
          "metadata": {},
          "execution_count": 46
        }
      ]
    },
    {
      "cell_type": "code",
      "source": [
        "level_relation = []\n",
        "for i in range(4):\n",
        "    level_relation.append(parameter1[i]/parameter1[1])"
      ],
      "metadata": {
        "id": "MicBpoK7UoyP"
      },
      "execution_count": 47,
      "outputs": []
    },
    {
      "cell_type": "code",
      "source": [
        "level_relation"
      ],
      "metadata": {
        "colab": {
          "base_uri": "https://localhost:8080/"
        },
        "id": "yh01e9jEUt-s",
        "outputId": "52dad03b-940d-4f47-ef97-6c051f79242d"
      },
      "execution_count": 48,
      "outputs": [
        {
          "output_type": "execute_result",
          "data": {
            "text/plain": [
              "[0.0, 1.0, 7.142857142857143, 46.92857142857143]"
            ]
          },
          "metadata": {},
          "execution_count": 48
        }
      ]
    },
    {
      "cell_type": "markdown",
      "source": [
        "###Relation between different Levels\n",
        "level1 = 0 (Conditions of perfect lockdown)\n",
        "level2 = 1 * level2 (Conditions for imperfect lockdown)\n",
        "level3 = 7 * level2 ( Condition for impoerfect lockdown with illegal gathering)\n",
        "level4 = 47 * level2 (No restrictions)\n",
        "level5 is an empty list"
      ],
      "metadata": {
        "id": "HpW1sXEuUxTM"
      }
    },
    {
      "cell_type": "markdown",
      "source": [
        "###Calculating the probablity for the Recovery rate\n",
        "Calculating with the help of regression model"
      ],
      "metadata": {
        "id": "UYdhkZFJUz9Y"
      }
    },
    {
      "cell_type": "code",
      "source": [
        "death_recovery = []"
      ],
      "metadata": {
        "id": "xTO4iI4jU38M"
      },
      "execution_count": 49,
      "outputs": []
    },
    {
      "cell_type": "code",
      "source": [
        "death_recovery.append(Regression(India[0],India[1]))"
      ],
      "metadata": {
        "colab": {
          "base_uri": "https://localhost:8080/",
          "height": 279
        },
        "id": "KdvS1IPLU8ol",
        "outputId": "a28a0b23-38c0-41cc-83f2-8e5b73d411ea"
      },
      "execution_count": 50,
      "outputs": [
        {
          "output_type": "display_data",
          "data": {
            "text/plain": [
              "<Figure size 432x288 with 1 Axes>"
            ],
            "image/png": "[encoded data removed]"
          },
          "metadata": {
            "needs_background": "light"
          }
        }
      ]
    },
    {
      "cell_type": "markdown",
      "source": [
        "###Calculating with the help of probablity"
      ],
      "metadata": {
        "id": "MjU6S2vxVAgj"
      }
    },
    {
      "cell_type": "code",
      "source": [
        "pro_death_recovery = []"
      ],
      "metadata": {
        "id": "XLEl8NeVVDUX"
      },
      "execution_count": 51,
      "outputs": []
    },
    {
      "cell_type": "code",
      "source": [
        "p = max(India[1])/max(India[0])"
      ],
      "metadata": {
        "id": "sYYsWYdyVF2A"
      },
      "execution_count": 52,
      "outputs": []
    },
    {
      "cell_type": "code",
      "source": [
        "pro_death_recovery.append(p)"
      ],
      "metadata": {
        "id": "ss7ISGcwVGA3"
      },
      "execution_count": 53,
      "outputs": []
    },
    {
      "cell_type": "markdown",
      "source": [
        "###regression model and probablity are giving the same parameter"
      ],
      "metadata": {
        "id": "Y1rtQfBDVTw_"
      }
    },
    {
      "cell_type": "markdown",
      "source": [
        "Calculating the death rate"
      ],
      "metadata": {
        "id": "E067qWEIVWZz"
      }
    },
    {
      "cell_type": "markdown",
      "source": [
        "Calculating with the help of regression model"
      ],
      "metadata": {
        "id": "fqx2nu4iVZFq"
      }
    },
    {
      "cell_type": "code",
      "source": [
        "death_recovery.append(Regression(India[0],India[2]))"
      ],
      "metadata": {
        "colab": {
          "base_uri": "https://localhost:8080/",
          "height": 166
        },
        "id": "P60PmzCXVc8m",
        "outputId": "3bf4b79c-4633-48ce-817b-319482cec4ac"
      },
      "execution_count": 66,
      "outputs": [
        {
          "output_type": "error",
          "ename": "NameError",
          "evalue": "ignored",
          "traceback": [
            "\u001b[0;31m---------------------------------------------------------------------------\u001b[0m",
            "\u001b[0;31mNameError\u001b[0m                                 Traceback (most recent call last)",
            "\u001b[0;32m<ipython-input-66-1db9747f9ca5>\u001b[0m in \u001b[0;36m<module>\u001b[0;34m\u001b[0m\n\u001b[0;32m----> 1\u001b[0;31m \u001b[0mdeath_recovery\u001b[0m\u001b[0;34m.\u001b[0m\u001b[0mappend\u001b[0m\u001b[0;34m(\u001b[0m\u001b[0mRegression\u001b[0m\u001b[0;34m(\u001b[0m\u001b[0mIndia\u001b[0m\u001b[0;34m[\u001b[0m\u001b[0;36m0\u001b[0m\u001b[0;34m]\u001b[0m\u001b[0;34m,\u001b[0m\u001b[0mIndia\u001b[0m\u001b[0;34m[\u001b[0m\u001b[0;36m2\u001b[0m\u001b[0;34m]\u001b[0m\u001b[0;34m)\u001b[0m\u001b[0;34m)\u001b[0m\u001b[0;34m\u001b[0m\u001b[0;34m\u001b[0m\u001b[0m\n\u001b[0m",
            "\u001b[0;31mNameError\u001b[0m: name 'death_recovery' is not defined"
          ]
        }
      ]
    },
    {
      "cell_type": "markdown",
      "source": [
        "As most of the cases are 0 hence the parameter came to 0. but number of cases is directly proportional to death rate. Hence we are going for probablity"
      ],
      "metadata": {
        "id": "M__QSUvLVjKL"
      }
    },
    {
      "cell_type": "code",
      "source": [
        "p = max(India[2])/max(India[0])"
      ],
      "metadata": {
        "id": "vNwFozTNVlvh"
      },
      "execution_count": 56,
      "outputs": []
    },
    {
      "cell_type": "code",
      "source": [
        "p"
      ],
      "metadata": {
        "colab": {
          "base_uri": "https://localhost:8080/"
        },
        "id": "d3krE2JgVoht",
        "outputId": "aeac3c3d-e5a1-4564-c51c-e40c04a98584"
      },
      "execution_count": 57,
      "outputs": [
        {
          "output_type": "execute_result",
          "data": {
            "text/plain": [
              "0.03371529308065227"
            ]
          },
          "metadata": {},
          "execution_count": 57
        }
      ]
    },
    {
      "cell_type": "code",
      "source": [
        "pro_death_recovery.append(p)"
      ],
      "metadata": {
        "id": "NPJiKwJ4VsOz"
      },
      "execution_count": 64,
      "outputs": []
    },
    {
      "cell_type": "code",
      "source": [
        "print(death_recovery)\n",
        "print(pro_death_recovery)\n",
        "#pro_death_Recovery is more accurate. hence discarding regression parameter"
      ],
      "metadata": {
        "colab": {
          "base_uri": "https://localhost:8080/"
        },
        "id": "bEd-YWc5VsXH",
        "outputId": "c9c93e25-9b2a-42a2-cd61-4e5da69d0623"
      },
      "execution_count": 59,
      "outputs": [
        {
          "output_type": "stream",
          "name": "stdout",
          "text": [
            "[0.1, 0.0]\n",
            "[0.11690171881886294, 0.03371529308065227]\n"
          ]
        }
      ]
    },
    {
      "cell_type": "code",
      "source": [
        "del(death_recovery)"
      ],
      "metadata": {
        "colab": {
          "base_uri": "https://localhost:8080/",
          "height": 166
        },
        "id": "LCvaXucMV2qW",
        "outputId": "df1e5f8e-31bf-45d2-c5a3-e61cec03fba6"
      },
      "execution_count": 68,
      "outputs": [
        {
          "output_type": "error",
          "ename": "NameError",
          "evalue": "ignored",
          "traceback": [
            "\u001b[0;31m---------------------------------------------------------------------------\u001b[0m",
            "\u001b[0;31mNameError\u001b[0m                                 Traceback (most recent call last)",
            "\u001b[0;32m<ipython-input-68-b9c0c2fa4bcc>\u001b[0m in \u001b[0;36m<module>\u001b[0;34m\u001b[0m\n\u001b[0;32m----> 1\u001b[0;31m \u001b[0;32mdel\u001b[0m\u001b[0;34m(\u001b[0m\u001b[0mdeath_recovery\u001b[0m\u001b[0;34m)\u001b[0m\u001b[0;34m\u001b[0m\u001b[0;34m\u001b[0m\u001b[0m\n\u001b[0m",
            "\u001b[0;31mNameError\u001b[0m: name 'death_recovery' is not defined"
          ]
        }
      ]
    },
    {
      "cell_type": "markdown",
      "source": [
        "Calculating the conditional probablity for pandemic Infection"
      ],
      "metadata": {
        "id": "IMhMPHZLV67e"
      }
    },
    {
      "cell_type": "code",
      "source": [
        "def probablity(parameter1,x):\n",
        "    s = 0\n",
        "    l1=int(input(\"Enter how many infected person are toally lockdown\"))\n",
        "    l2=int(input(\"Enter how many infected person have gone with maximum social distancing\"))\n",
        "    l3=int(input(\"Enter how many infected person and meet some people\"))\n",
        "    l4=int(input(\"Enter how many infected person had illegal gahtering or government had not declared lockdown\"))\n",
        "    if(l1 != 0 ):\n",
        "        l1 = l1\n",
        "        s = 0\n",
        "    if(l2 != 0):\n",
        "        l2 = l2\n",
        "        s = 1\n",
        "    if(l3 != 0 ):\n",
        "        l3 = l3\n",
        "        s = 2\n",
        "    if(l4 != 0):\n",
        "        l4 = l4\n",
        "        s = 3\n",
        "    m = s*15\n",
        "    result = (l1*level_relation[0]) + (l2*level_relation[1]) + (l3*level_relation[2]) + (l4*level_relation[3])\n",
        "    probablity = result/(level_relation[s]*m)\n",
        "    return probablity "
      ],
      "metadata": {
        "id": "rghGJgUzV9Xy"
      },
      "execution_count": 67,
      "outputs": []
    },
    {
      "cell_type": "code",
      "source": [
        "probablity(parameter1,3)"
      ],
      "metadata": {
        "id": "dnk-dQBxWSJf"
      },
      "execution_count": null,
      "outputs": []
    },
    {
      "cell_type": "markdown",
      "source": [
        "Compiling all the functions and paramers\n",
        "\n",
        "1) Calculation of Stages\n",
        "\n",
        "2) Calculation of Levels\n",
        "\n",
        "3) Calculation of conditional probablity for infection\n",
        "\n",
        "4) Calculation of death and recovery rate"
      ],
      "metadata": {
        "id": "NGgq2bPwWXCE"
      }
    },
    {
      "cell_type": "code",
      "source": [
        "def main():\n",
        "    print(\"Welcome to pandemic forecasting\")\n",
        "    x = int(input(\"Enter the number of cases = \"))\n",
        "    x1 = int(input(\"Enter the number of days in the range of 14 of which you want to predict = \"))\n",
        "    if(x/10 < 1):\n",
        "        s = 0\n",
        "    elif(x/10 > 1 and x/100 < 1):\n",
        "        s = 1\n",
        "    elif(x/10 > 1 and x/100 >1 and x/1000 < 1 ):\n",
        "        s = 2\n",
        "    elif(x/10 > 1 and x/100 >1 and x/1000 > 1 and x/10000 < 1):\n",
        "        s = 3\n",
        "    else:\n",
        "        print(\"This stage is not present please update the model\")\n",
        "    pro = probablity(parameter1,x)\n",
        "    death = x*pro_death_recovery[1]\n",
        "    recovery = x*pro_death_recovery[0]\n",
        "    print(\"Previous death calculated = \" , death , recovery)\n",
        "    ypred = (parameter[s]*x1)+(stage_relation[s]*pro) - death - recovery\n",
        "    death = ypred*pro_death_recovery[1]\n",
        "    recovery = ypred*pro_death_recovery[0]\n",
        "    print(pro , stage_relation[s] , parameter[0]*x1)\n",
        "    print(\"Number of confirmed cases will be = \" , ypred)\n",
        "    print(\"Number of death on that day will be = \" , death)\n",
        "    print(\"Number of recovery on that day will be = \",recovery)\n",
        "    return ypred ,  death , recovery"
      ],
      "metadata": {
        "id": "52g0dvaYWbAW"
      },
      "execution_count": null,
      "outputs": []
    },
    {
      "cell_type": "code",
      "source": [
        "ypr = []\n",
        "de = []\n",
        "re = []"
      ],
      "metadata": {
        "id": "Owj97ZxJX7Bf"
      },
      "execution_count": null,
      "outputs": []
    },
    {
      "cell_type": "code",
      "source": [
        "a,b,c = main()\n",
        "ypr.append(a)\n",
        "de.append(b)\n",
        "re.append(c)"
      ],
      "metadata": {
        "id": "qLGhFc-pX9wd"
      },
      "execution_count": null,
      "outputs": []
    },
    {
      "cell_type": "code",
      "source": [
        "a,b,c = main()\n",
        "ypr.append(a)\n",
        "de.append(b)\n",
        "re.append(c)"
      ],
      "metadata": {
        "id": "ofguUmJPYE_m"
      },
      "execution_count": null,
      "outputs": []
    },
    {
      "cell_type": "code",
      "source": [
        "a,b,c = main()\n",
        "ypr.append(a)\n",
        "de.append(b)\n",
        "re.append(c)"
      ],
      "metadata": {
        "id": "RBrXV9BkYHZC"
      },
      "execution_count": null,
      "outputs": []
    },
    {
      "cell_type": "markdown",
      "source": [
        "Testing the accuracy of the Model"
      ],
      "metadata": {
        "id": "HoOd-kFqYKOe"
      }
    },
    {
      "cell_type": "code",
      "source": [
        "print(\"Predicted Confirmed cases = \",ypr)\n",
        "print(\"Predicted Death cases = \",de)\n",
        "print(\"Predicted Recovery cases = \",re)"
      ],
      "metadata": {
        "id": "FjcN40U3YMom"
      },
      "execution_count": null,
      "outputs": []
    },
    {
      "cell_type": "code",
      "source": [
        "ya = []\n",
        "da = []\n",
        "ra = []"
      ],
      "metadata": {
        "id": "xqV6Sv84YP2L"
      },
      "execution_count": null,
      "outputs": []
    },
    {
      "cell_type": "code",
      "source": [
        "for i in range(3):\n",
        "    ya.append(India[0][34+14+i])\n",
        "    da.append(India[2][34+14+i])\n",
        "    ra.append(India[1][34+14+i])"
      ],
      "metadata": {
        "id": "lblL8dzkYSI_"
      },
      "execution_count": null,
      "outputs": []
    },
    {
      "cell_type": "code",
      "source": [
        "print(\"Actual Confirmed Cases = \", ya)\n",
        "print(\"Actual Death cases = \", da)\n",
        "print(\"Actual Recovered cases = \",ra)"
      ],
      "metadata": {
        "id": "bh2nw7XTYVUH"
      },
      "execution_count": null,
      "outputs": []
    },
    {
      "cell_type": "markdown",
      "source": [
        "Accuracy"
      ],
      "metadata": {
        "id": "sRygxMyZYYK7"
      }
    },
    {
      "cell_type": "code",
      "source": [
        "from sklearn.metrics import r2_score"
      ],
      "metadata": {
        "id": "FbMoC7KJYaVZ"
      },
      "execution_count": null,
      "outputs": []
    },
    {
      "cell_type": "code",
      "source": [
        "r2_score(ya,ypr)"
      ],
      "metadata": {
        "id": "YVZs7nXrYcxy"
      },
      "execution_count": null,
      "outputs": []
    },
    {
      "cell_type": "code",
      "source": [
        "r2_score(da,de)"
      ],
      "metadata": {
        "id": "zlShG-stYfVk"
      },
      "execution_count": null,
      "outputs": []
    },
    {
      "cell_type": "code",
      "source": [
        "r2_score(ra,re)"
      ],
      "metadata": {
        "id": "S1PtdWhVYhzp"
      },
      "execution_count": null,
      "outputs": []
    },
    {
      "cell_type": "markdown",
      "source": [
        "The Accuracy can be increased. Actually i gave any random value in probablity level input section. The reason behind this is that data is only knowned by the infected person. If they tell us the correct information then we can achieve a good accuracy. This is the only reason i took only 3 value for testing. I intentionally added an extra value to overcome that part of error. If we get correct input our model will give the correct predictions"
      ],
      "metadata": {
        "id": "jEOossiZYlXk"
      }
    },
    {
      "cell_type": "markdown",
      "source": [
        "#THANK YOU"
      ],
      "metadata": {
        "id": "E94dnRnrYsLJ"
      }
    }
  ]
}